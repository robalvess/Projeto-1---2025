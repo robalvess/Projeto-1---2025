{
 "cells": [
  {
   "cell_type": "code",
   "execution_count": 2,
   "metadata": {},
   "outputs": [],
   "source": [
    "import numpy as np\n",
    "import matplotlib.pyplot as plt"
   ]
  },
  {
   "cell_type": "code",
   "execution_count": 3,
   "metadata": {},
   "outputs": [],
   "source": [
    "#Here, I want to reproduce FIG. 5 of the paper regarding the threshold tuning of the energy deposit.\n",
    "#The first one regards the deposit for zero field case. First, I will define the parameters of the SMM.\n",
    "\n",
    "U = 100 #K\n",
    "tau_0 = 4.23e-9 #s\n",
    "#E_zee = 0\n",
    "alpha = 1e-7 * (1e9)**2 #nm2/s\n",
    "c_0 = 2e-9 #eV/K4/nm3\n",
    "rho_s = 1 #nm^-3"
   ]
  },
  {
   "cell_type": "code",
   "execution_count": 4,
   "metadata": {},
   "outputs": [],
   "source": [
    "#The threshold can be put as forcing Eq. 7 to be an equality:\n",
    "\n",
    "def energy_deposit(r, E_zee):\n",
    "    numerator = c_0*(r**3)*(U* - 0.5*E_zee*(1.6e4))**4\n",
    "    denominator = np.log(r**2/(tau_0 * alpha))\n",
    "    return ((numerator/(denominator)**4) - rho_s*(r**3)*E_zee)\n",
    "\n",
    "def energy_deposit2(r, E_zee):\n",
    "    numerator = c_0*(r**3)*(U - 0.5*E_zee*(1.6e4))**4\n",
    "    denominator = np.log(r**2/(tau_0 * alpha))\n",
    "    return ((numerator/(denominator)**4))\n"
   ]
  },
  {
   "cell_type": "code",
   "execution_count": 7,
   "metadata": {},
   "outputs": [
    {
     "name": "stderr",
     "output_type": "stream",
     "text": [
      "No artists with labels found to put in legend.  Note that artists whose label start with an underscore are ignored when legend() is called with no argument.\n"
     ]
    },
    {
     "data": {
      "image/png": "[encoded data removed]",
      "text/plain": [
       "<Figure size 640x480 with 1 Axes>"
      ]
     },
     "metadata": {},
     "output_type": "display_data"
    }
   ],
   "source": [
    "range = np.linspace(1.2,20,1000)\n",
    "ezee = [0,0.001e-3*(1.6e4), 0.01e-3*(1.6e4), 0.1e-3*(1.6e4)]\n",
    "list_of_values1 = [energy_deposit(x,0) for x in range]\n",
    "list_of_values2 = [energy_deposit(x,0.001e-3) for x in range]\n",
    "list_of_values3 = [energy_deposit(x,0.01e-3) for x in range]\n",
    "list_of_values4 = [energy_deposit(x,0.1e-3) for x in range]\n",
    "list_of_values5 = [energy_deposit2(x, 1e-4) for x in range]\n",
    "\n",
    "\n",
    "plt.plot(range, list_of_values5, color='black')\n",
    "#plt.plot(range,list_of_values1,label='$\\Delta E_{Zee} = 0 meV$')\n",
    "#plt.plot(range, list_of_values2, label='$\\Delta E_{Zee} = 1e-5 meV$')\n",
    "#plt.plot(range, list_of_values3, label='$\\Delta E_{Zee} = 0.01 meV$')\n",
    "#plt.plot(range, list_of_values4, label='$\\Delta E_{Zee} = 0.1 meV$')\n",
    "plt.yscale('log')\n",
    "plt.xscale('log')\n",
    "plt.xlim(1.2,20)\n",
    "plt.ylim(0.001,0.1)\n",
    "plt.xticks(ticks=[1.5,2.0,3.0,5.0,7.0,10.0,15,20], labels=[1.5,2.0,3.0,5.0,7.0,10.0,15.0,20.0])\n",
    "plt.ylabel('$E_0[eV]$', fontsize=14)\n",
    "plt.xlabel('$R[nm]$', fontsize=14)\n",
    "plt.legend()\n",
    "plt.savefig('tuning.pdf', format='pdf')"
   ]
  },
  {
   "cell_type": "code",
   "execution_count": 6,
   "metadata": {},
   "outputs": [
    {
     "data": {
      "text/plain": [
       "'This curve tells us abou the minimum energy necessary to trigger the reaction. In average we have R = 2-3nm, so we must expect that the energy be above 1e-2 eV.'"
      ]
     },
     "execution_count": 6,
     "metadata": {},
     "output_type": "execute_result"
    }
   ],
   "source": [
    "'''This curve tells us abou the minimum energy necessary to trigger the reaction. In average we have R = 2-3nm, so we must expect that the energy be above 1e-2 eV.'''"
   ]
  }
 ],
 "metadata": {
  "kernelspec": {
   "display_name": "base",
   "language": "python",
   "name": "python3"
  },
  "language_info": {
   "codemirror_mode": {
    "name": "ipython",
    "version": 3
   },
   "file_extension": ".py",
   "mimetype": "text/x-python",
   "name": "python",
   "nbconvert_exporter": "python",
   "pygments_lexer": "ipython3",
   "version": "3.11.7"
  }
 },
 "nbformat": 4,
 "nbformat_minor": 2
}
