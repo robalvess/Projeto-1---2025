{
 "cells": [
  {
   "cell_type": "code",
   "execution_count": 1,
   "metadata": {},
   "outputs": [],
   "source": [
    "import numpy as np\n",
    "import pandas as pd\n",
    "import matplotlib.pyplot as plt\n",
    "from scipy.interpolate import interp1d\n",
    "from scipy.interpolate import UnivariateSpline"
   ]
  },
  {
   "cell_type": "code",
   "execution_count": 2,
   "metadata": {},
   "outputs": [],
   "source": [
    "'''A bit of constants.'''\n",
    "\n",
    "cmtoev = 1.98e-5\n",
    "\n",
    "gtoev = 5.62e32\n",
    "\n",
    "stoev = 1/(6.58e-16)"
   ]
  },
  {
   "cell_type": "code",
   "execution_count": 3,
   "metadata": {},
   "outputs": [
    {
     "data": {
      "text/html": [
       "<div>\n",
       "<style scoped>\n",
       "    .dataframe tbody tr th:only-of-type {\n",
       "        vertical-align: middle;\n",
       "    }\n",
       "\n",
       "    .dataframe tbody tr th {\n",
       "        vertical-align: top;\n",
       "    }\n",
       "\n",
       "    .dataframe thead th {\n",
       "        text-align: right;\n",
       "    }\n",
       "</style>\n",
       "<table border=\"1\" class=\"dataframe\">\n",
       "  <thead>\n",
       "    <tr style=\"text-align: right;\">\n",
       "      <th></th>\n",
       "      <th>0</th>\n",
       "      <th>1</th>\n",
       "    </tr>\n",
       "  </thead>\n",
       "  <tbody>\n",
       "    <tr>\n",
       "      <th>0</th>\n",
       "      <td>606.430884</td>\n",
       "      <td>2234.203057</td>\n",
       "    </tr>\n",
       "    <tr>\n",
       "      <th>1</th>\n",
       "      <td>624.120776</td>\n",
       "      <td>2294.474759</td>\n",
       "    </tr>\n",
       "    <tr>\n",
       "      <th>2</th>\n",
       "      <td>641.897326</td>\n",
       "      <td>2504.236932</td>\n",
       "    </tr>\n",
       "    <tr>\n",
       "      <th>3</th>\n",
       "      <td>660.953183</td>\n",
       "      <td>2912.925361</td>\n",
       "    </tr>\n",
       "    <tr>\n",
       "      <th>4</th>\n",
       "      <td>661.505870</td>\n",
       "      <td>2698.767768</td>\n",
       "    </tr>\n",
       "    <tr>\n",
       "      <th>...</th>\n",
       "      <td>...</td>\n",
       "      <td>...</td>\n",
       "    </tr>\n",
       "    <tr>\n",
       "      <th>194</th>\n",
       "      <td>41646.676693</td>\n",
       "      <td>191617.701721</td>\n",
       "    </tr>\n",
       "    <tr>\n",
       "      <th>195</th>\n",
       "      <td>43206.841228</td>\n",
       "      <td>202119.404451</td>\n",
       "    </tr>\n",
       "    <tr>\n",
       "      <th>196</th>\n",
       "      <td>44975.572230</td>\n",
       "      <td>207901.509733</td>\n",
       "    </tr>\n",
       "    <tr>\n",
       "      <th>197</th>\n",
       "      <td>46816.708648</td>\n",
       "      <td>212090.989745</td>\n",
       "    </tr>\n",
       "    <tr>\n",
       "      <th>198</th>\n",
       "      <td>48570.552516</td>\n",
       "      <td>222364.553947</td>\n",
       "    </tr>\n",
       "  </tbody>\n",
       "</table>\n",
       "<p>199 rows × 2 columns</p>\n",
       "</div>"
      ],
      "text/plain": [
       "                0              1\n",
       "0      606.430884    2234.203057\n",
       "1      624.120776    2294.474759\n",
       "2      641.897326    2504.236932\n",
       "3      660.953183    2912.925361\n",
       "4      661.505870    2698.767768\n",
       "..            ...            ...\n",
       "194  41646.676693  191617.701721\n",
       "195  43206.841228  202119.404451\n",
       "196  44975.572230  207901.509733\n",
       "197  46816.708648  212090.989745\n",
       "198  48570.552516  222364.553947\n",
       "\n",
       "[199 rows x 2 columns]"
      ]
     },
     "execution_count": 3,
     "metadata": {},
     "output_type": "execute_result"
    }
   ],
   "source": [
    "df = pd.read_csv('datafromabsorption.csv',sep=';',header=None)\n",
    "\n",
    "dataset_menos = pd.read_csv(\"Default Dataset (3).csv\", sep=';',header=None)\n",
    "\n",
    "transmitance = pd.read_csv('transmittancedata.csv', sep=\";\", header=None)\n",
    "\n",
    "novo = pd.read_csv('dataset4.csv', sep=';', header=None)\n",
    "\n",
    "data1 = pd.read_csv('data1.csv', sep=';', header=None)\n",
    "\n",
    "data2 = pd.read_csv('data2.csv', sep=';', header=None)\n",
    "\n",
    "data1_new, data2_new = data1*cmtoev, data2*cmtoev\n",
    "\n",
    "df_new = df*cmtoev\n",
    "\n",
    "dataset_new = dataset_menos*cmtoev\n",
    "\n",
    "novo_modificado = novo*cmtoev\n",
    "\n",
    "\n",
    "novo"
   ]
  },
  {
   "cell_type": "code",
   "execution_count": 4,
   "metadata": {},
   "outputs": [
    {
     "data": {
      "text/html": [
       "<div>\n",
       "<style scoped>\n",
       "    .dataframe tbody tr th:only-of-type {\n",
       "        vertical-align: middle;\n",
       "    }\n",
       "\n",
       "    .dataframe tbody tr th {\n",
       "        vertical-align: top;\n",
       "    }\n",
       "\n",
       "    .dataframe thead th {\n",
       "        text-align: right;\n",
       "    }\n",
       "</style>\n",
       "<table border=\"1\" class=\"dataframe\">\n",
       "  <thead>\n",
       "    <tr style=\"text-align: right;\">\n",
       "      <th></th>\n",
       "      <th>0</th>\n",
       "      <th>1</th>\n",
       "    </tr>\n",
       "  </thead>\n",
       "  <tbody>\n",
       "    <tr>\n",
       "      <th>0</th>\n",
       "      <td>142.061148</td>\n",
       "      <td>246.773462</td>\n",
       "    </tr>\n",
       "    <tr>\n",
       "      <th>1</th>\n",
       "      <td>142.220533</td>\n",
       "      <td>226.524842</td>\n",
       "    </tr>\n",
       "    <tr>\n",
       "      <th>2</th>\n",
       "      <td>148.914687</td>\n",
       "      <td>270.857522</td>\n",
       "    </tr>\n",
       "    <tr>\n",
       "      <th>3</th>\n",
       "      <td>147.241149</td>\n",
       "      <td>296.698559</td>\n",
       "    </tr>\n",
       "    <tr>\n",
       "      <th>4</th>\n",
       "      <td>147.241149</td>\n",
       "      <td>313.232364</td>\n",
       "    </tr>\n",
       "    <tr>\n",
       "      <th>...</th>\n",
       "      <td>...</td>\n",
       "      <td>...</td>\n",
       "    </tr>\n",
       "    <tr>\n",
       "      <th>559</th>\n",
       "      <td>645.397802</td>\n",
       "      <td>2107.159785</td>\n",
       "    </tr>\n",
       "    <tr>\n",
       "      <th>560</th>\n",
       "      <td>648.187033</td>\n",
       "      <td>1511.052030</td>\n",
       "    </tr>\n",
       "    <tr>\n",
       "      <th>561</th>\n",
       "      <td>648.001084</td>\n",
       "      <td>1551.688288</td>\n",
       "    </tr>\n",
       "    <tr>\n",
       "      <th>562</th>\n",
       "      <td>648.001084</td>\n",
       "      <td>1607.283521</td>\n",
       "    </tr>\n",
       "    <tr>\n",
       "      <th>563</th>\n",
       "      <td>647.071341</td>\n",
       "      <td>1645.538809</td>\n",
       "    </tr>\n",
       "  </tbody>\n",
       "</table>\n",
       "<p>564 rows × 2 columns</p>\n",
       "</div>"
      ],
      "text/plain": [
       "              0            1\n",
       "0    142.061148   246.773462\n",
       "1    142.220533   226.524842\n",
       "2    148.914687   270.857522\n",
       "3    147.241149   296.698559\n",
       "4    147.241149   313.232364\n",
       "..          ...          ...\n",
       "559  645.397802  2107.159785\n",
       "560  648.187033  1511.052030\n",
       "561  648.001084  1551.688288\n",
       "562  648.001084  1607.283521\n",
       "563  647.071341  1645.538809\n",
       "\n",
       "[564 rows x 2 columns]"
      ]
     },
     "execution_count": 4,
     "metadata": {},
     "output_type": "execute_result"
    }
   ],
   "source": [
    "l = 0.0203544\n",
    "\n",
    "absoportion_1 = [-np.log(transmitance.iloc[x,1])/(l*0.035) for x in range(len(transmitance))]\n",
    "\n",
    "transmitance.iloc[:,1] = absoportion_1\n",
    "\n",
    "transmitance_new = transmitance*cmtoev\n",
    "\n",
    "juntando = pd.concat([transmitance_new.iloc[:258,:258],novo_modificado])\n",
    "\n",
    "juntando.to_csv('dados_juntos.csv', sep=';', index=False, header=False)\n",
    "\n",
    "\n",
    "transmitance"
   ]
  },
  {
   "cell_type": "code",
   "execution_count": 5,
   "metadata": {},
   "outputs": [],
   "source": [
    "dados = pd.read_csv('dados_juntos.csv', sep=';', header=None)\n",
    "dados\n",
    "\n",
    "\n",
    "lista1 = [dados.iloc[x,0] for x in range(len(dados))]\n",
    "sorting = sorted(lista1)\n",
    "\n",
    "for i in range(len(sorting)):\n",
    "    dados.iloc[i,0] = sorting[i]"
   ]
  },
  {
   "cell_type": "code",
   "execution_count": 6,
   "metadata": {},
   "outputs": [
    {
     "data": {
      "image/png": "[encoded data removed]",
      "text/plain": [
       "<Figure size 640x480 with 1 Axes>"
      ]
     },
     "metadata": {},
     "output_type": "display_data"
    }
   ],
   "source": [
    "plt.plot(dados[0],dados[1])\n",
    "plt.xscale('log')\n",
    "plt.yscale('log')\n",
    "#plt.xlim(600,5e4)\n"
   ]
  },
  {
   "cell_type": "code",
   "execution_count": 29,
   "metadata": {},
   "outputs": [
    {
     "data": {
      "text/plain": [
       "4.792705167173252e+22"
      ]
     },
     "execution_count": 29,
     "metadata": {},
     "output_type": "execute_result"
    }
   ],
   "source": [
    "#Vou colocar alguns dados numéricos aqui:\n",
    "n = 1e21*(cmtoev)**3#atomos/cm3\n",
    "rho = 3* gtoev * (cmtoev)**3#g/cm3\n",
    "rho_dm = 0.3e9 *(cmtoev)**3 #ev/cm3\n",
    "year = 365*24*60*60*stoev\n",
    "kg = gtoev*(10)**3\n",
    "day = 24*60*60*stoev"
   ]
  },
  {
   "cell_type": "code",
   "execution_count": 20,
   "metadata": {},
   "outputs": [],
   "source": [
    "def kappa(m, alpha):\n",
    "    sensitivity = 1/(kg*year)\n",
    "    ratio = (rho*m)/(rho_dm*alpha)\n",
    "    return (np.sqrt((sensitivity*ratio)))/n\n",
    "\n",
    "def kappa2(m, alpha):\n",
    "    sensitivity = 1/(kg*day)\n",
    "    ratio = (rho*m)/(rho_dm*alpha)\n",
    "    return (np.sqrt((sensitivity*ratio)))/n"
   ]
  },
  {
   "cell_type": "code",
   "execution_count": 24,
   "metadata": {},
   "outputs": [
    {
     "data": {
      "text/plain": [
       "1.4802835406806645e-24"
      ]
     },
     "execution_count": 24,
     "metadata": {},
     "output_type": "execute_result"
    }
   ],
   "source": [
    "kappa(dados.iloc[27,0],dados.iloc[27,1])"
   ]
  },
  {
   "cell_type": "code",
   "execution_count": 25,
   "metadata": {},
   "outputs": [
    {
     "data": {
      "text/plain": [
       "457"
      ]
     },
     "execution_count": 25,
     "metadata": {},
     "output_type": "execute_result"
    }
   ],
   "source": [
    "interpolation = interp1d(dados.iloc[:,0],dados.iloc[:,1], kind='linear', fill_value=\"extrapolate\")\n",
    "\n",
    "graphkgyear = [kappa(dados.iloc[x,0],dados.iloc[x,1]) for x in range(len(dados))]\n",
    "graphkgday = [kappa2(dados.iloc[x,0],dados.iloc[x,1]) for x in range(len(dados))]\n",
    "\n",
    "len(graphkgday)"
   ]
  },
  {
   "cell_type": "code",
   "execution_count": 26,
   "metadata": {},
   "outputs": [
    {
     "data": {
      "image/png": "[encoded data removed]",
      "text/plain": [
       "<Figure size 640x480 with 1 Axes>"
      ]
     },
     "metadata": {},
     "output_type": "display_data"
    }
   ],
   "source": [
    "plt.plot(dados[0],graphkgday, linestyle='dashdot', label='kg-day')\n",
    "plt.plot(dados[0],graphkgyear, linestyle='--', label='kg-year')\n",
    "\n",
    "plt.xscale('log')\n",
    "plt.yscale('log')\n",
    "plt.ylim(1e-29,1e-19)\n",
    "#plt.xlim(1e-3,10)\n",
    "plt.legend()\n",
    "plt.savefig('plottt.pdf', format='pdf')"
   ]
  },
  {
   "cell_type": "code",
   "execution_count": 27,
   "metadata": {},
   "outputs": [],
   "source": [
    "#I want to try and interpolate separetly.\n",
    "\n",
    "fit1 = np.polyfit(data1_new.iloc[:,0], data1_new.iloc[:,1], 1)\n",
    "\n",
    "fit2 = np.polyfit(data2_new.iloc[:,0], data2_new.iloc[:,1], 3)\n",
    "\n",
    "fit3 = np.polyfit(transmitance_new.iloc[:,0], transmitance_new.iloc[:,1],2)\n",
    "\n",
    "funcao1 = np.poly1d(fit1)\n",
    "\n",
    "funcao2 = np.poly1d(fit2)\n",
    "\n",
    "funcao3 = np.poly1d(fit3)\n",
    "\n",
    "lista_plot1 = [funcao1(data1_new.iloc[x,0]) for x in range(len(data1_new))]\n",
    "\n",
    "lista_plot2 = [funcao2(data2_new.iloc[x,0]) for x in range(len(data2_new))]\n",
    "\n",
    "lista_plot3 = [funcao2(transmitance_new.iloc[x,0]) for x in range(len(transmitance_new))]\n",
    "\n",
    "lista_plot4 = lista_plot3 + lista_plot1 + lista_plot2 \n",
    "\n",
    "xaxis = [transmitance_new.iloc[x,0] for x in range(len(transmitance_new))] + [data1_new.iloc[x,0] for x in range(len(data1_new))] + [data2_new.iloc[x,0] for x in range(len(data2_new))]\n",
    "\n",
    "#plt.plot(data1_new.iloc[:,0], lista_plot1)\n",
    "#plt.plot(data2_new.iloc[:,0], lista_plot2)\n",
    "#plt.plot(transmitance_new.iloc[:,0], lista_plot3)\n",
    "#plt.plot(xaxis, lista_plot4)\n",
    "\n",
    "#plt.xscale('log')\n",
    "#plt.yscale('log')\n",
    "\n"
   ]
  },
  {
   "cell_type": "code",
   "execution_count": 28,
   "metadata": {},
   "outputs": [
    {
     "data": {
      "text/plain": [
       "<matplotlib.legend.Legend at 0x24303e3a990>"
      ]
     },
     "execution_count": 28,
     "metadata": {},
     "output_type": "execute_result"
    },
    {
     "data": {
      "image/png": "[encoded data removed]",
      "text/plain": [
       "<Figure size 640x480 with 1 Axes>"
      ]
     },
     "metadata": {},
     "output_type": "display_data"
    }
   ],
   "source": [
    "graphkgyear1 = [kappa(data1_new.iloc[x,0],funcao1(data1_new.iloc[x,0])) for x in range(len(data1_new))] \n",
    "graphkgyear2 = [kappa(data2_new.iloc[x,0],funcao2(data2_new.iloc[x,0])) for x in range(len(data2_new))]\n",
    "graphkgyear3 = [kappa(transmitance_new.iloc[x,0],funcao3(transmitance_new.iloc[x,0])) for x in range(len(transmitance_new))]\n",
    "graph = [kappa(xaxis[x], lista_plot4[x]) for x in range(len(xaxis))]\n",
    "graph2 = graphkgyear3 + graphkgyear1 + graphkgyear2\n",
    "\n",
    "graphkgday1 = [kappa2(data1_new.iloc[x,0],funcao1(data1_new.iloc[x,0])) for x in range(len(data1_new))] \n",
    "graphkgday2 = [kappa2(data2_new.iloc[x,0],funcao2(data2_new.iloc[x,0])) for x in range(len(data2_new))]\n",
    "graphkgday3 = [kappa2(transmitance_new.iloc[x,0],funcao3(transmitance_new.iloc[x,0])) for x in range(len(transmitance_new))]\n",
    "graph3 = graphkgday3 + graphkgday1 + graphkgday2\n",
    "\n",
    "#plt.plot(data1_new.iloc[:,0], graphkgyear1)\n",
    "#plt.plot(data2_new.iloc[:,0], graphkgyear2)\n",
    "#plt.plot(transmitance_new.iloc[:,0], graphkgyear3)\n",
    "plt.plot(xaxis, graph3, label='kg-day')\n",
    "plt.plot(xaxis, graph2, label = 'kg-year')\n",
    "plt.xscale('log')\n",
    "plt.yscale('log')\n",
    "plt.ylim(1e-26, 1e-16)\n",
    "plt.legend()"
   ]
  },
  {
   "cell_type": "code",
   "execution_count": null,
   "metadata": {},
   "outputs": [],
   "source": []
  }
 ],
 "metadata": {
  "kernelspec": {
   "display_name": "Python 3",
   "language": "python",
   "name": "python3"
  },
  "language_info": {
   "codemirror_mode": {
    "name": "ipython",
    "version": 3
   },
   "file_extension": ".py",
   "mimetype": "text/x-python",
   "name": "python",
   "nbconvert_exporter": "python",
   "pygments_lexer": "ipython3",
   "version": "3.11.9"
  }
 },
 "nbformat": 4,
 "nbformat_minor": 2
}
