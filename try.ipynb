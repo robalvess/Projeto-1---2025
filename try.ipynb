{
 "cells": [
  {
   "cell_type": "code",
   "execution_count": 1,
   "metadata": {},
   "outputs": [],
   "source": [
    "import numpy as np\n",
    "import pandas as pd\n",
    "import matplotlib.pyplot as plt\n",
    "from scipy.interpolate import interp1d\n",
    "from scipy.interpolate import UnivariateSpline"
   ]
  },
  {
   "cell_type": "code",
   "execution_count": 27,
   "metadata": {},
   "outputs": [],
   "source": [
    "'''A bit of constants.'''\n",
    "\n",
    "cmtoev = 1.98e-5\n",
    "\n",
    "gtoev = 5.62e32\n",
    "\n",
    "stoev = 1/(6.58e-16)"
   ]
  },
  {
   "cell_type": "code",
   "execution_count": 49,
   "metadata": {},
   "outputs": [
    {
     "data": {
      "text/html": [
       "<div>\n",
       "<style scoped>\n",
       "    .dataframe tbody tr th:only-of-type {\n",
       "        vertical-align: middle;\n",
       "    }\n",
       "\n",
       "    .dataframe tbody tr th {\n",
       "        vertical-align: top;\n",
       "    }\n",
       "\n",
       "    .dataframe thead th {\n",
       "        text-align: right;\n",
       "    }\n",
       "</style>\n",
       "<table border=\"1\" class=\"dataframe\">\n",
       "  <thead>\n",
       "    <tr style=\"text-align: right;\">\n",
       "      <th></th>\n",
       "      <th>0</th>\n",
       "      <th>1</th>\n",
       "    </tr>\n",
       "  </thead>\n",
       "  <tbody>\n",
       "    <tr>\n",
       "      <th>0</th>\n",
       "      <td>0.013096</td>\n",
       "      <td>0.057612</td>\n",
       "    </tr>\n",
       "    <tr>\n",
       "      <th>1</th>\n",
       "      <td>0.013151</td>\n",
       "      <td>0.053748</td>\n",
       "    </tr>\n",
       "    <tr>\n",
       "      <th>2</th>\n",
       "      <td>0.013171</td>\n",
       "      <td>0.069092</td>\n",
       "    </tr>\n",
       "    <tr>\n",
       "      <th>3</th>\n",
       "      <td>0.013151</td>\n",
       "      <td>0.062972</td>\n",
       "    </tr>\n",
       "    <tr>\n",
       "      <th>4</th>\n",
       "      <td>0.013195</td>\n",
       "      <td>0.080006</td>\n",
       "    </tr>\n",
       "    <tr>\n",
       "      <th>...</th>\n",
       "      <td>...</td>\n",
       "      <td>...</td>\n",
       "    </tr>\n",
       "    <tr>\n",
       "      <th>100</th>\n",
       "      <td>0.031469</td>\n",
       "      <td>0.024480</td>\n",
       "    </tr>\n",
       "    <tr>\n",
       "      <th>101</th>\n",
       "      <td>0.031574</td>\n",
       "      <td>0.022917</td>\n",
       "    </tr>\n",
       "    <tr>\n",
       "      <th>102</th>\n",
       "      <td>0.031522</td>\n",
       "      <td>0.021365</td>\n",
       "    </tr>\n",
       "    <tr>\n",
       "      <th>103</th>\n",
       "      <td>0.031786</td>\n",
       "      <td>0.019325</td>\n",
       "    </tr>\n",
       "    <tr>\n",
       "      <th>104</th>\n",
       "      <td>0.031645</td>\n",
       "      <td>0.017925</td>\n",
       "    </tr>\n",
       "  </tbody>\n",
       "</table>\n",
       "<p>105 rows × 2 columns</p>\n",
       "</div>"
      ],
      "text/plain": [
       "            0         1\n",
       "0    0.013096  0.057612\n",
       "1    0.013151  0.053748\n",
       "2    0.013171  0.069092\n",
       "3    0.013151  0.062972\n",
       "4    0.013195  0.080006\n",
       "..        ...       ...\n",
       "100  0.031469  0.024480\n",
       "101  0.031574  0.022917\n",
       "102  0.031522  0.021365\n",
       "103  0.031786  0.019325\n",
       "104  0.031645  0.017925\n",
       "\n",
       "[105 rows x 2 columns]"
      ]
     },
     "execution_count": 49,
     "metadata": {},
     "output_type": "execute_result"
    }
   ],
   "source": [
    "df = pd.read_csv('datafromabsorption.csv',sep=';',header=None)\n",
    "\n",
    "dataset_menos = pd.read_csv(\"Default Dataset (3).csv\", sep=';',header=None)\n",
    "\n",
    "transmitance = pd.read_csv('transmittancedata.csv', sep=\";\", header=None)\n",
    "\n",
    "novo = pd.read_csv('dataset4.csv', sep=';', header=None)\n",
    "\n",
    "data1 = pd.read_csv('data1.csv', sep=';', header=None)\n",
    "\n",
    "data2 = pd.read_csv('data2.csv', sep=';', header=None)\n",
    "\n",
    "data1_new, data2_new = data1*cmtoev, data2*cmtoev\n",
    "\n",
    "df_new = df*cmtoev\n",
    "\n",
    "dataset_new = dataset_menos*cmtoev\n",
    "\n",
    "novo_modificado = novo*cmtoev\n",
    "\n",
    "data1_new"
   ]
  },
  {
   "cell_type": "code",
   "execution_count": 29,
   "metadata": {},
   "outputs": [
    {
     "data": {
      "text/html": [
       "<div>\n",
       "<style scoped>\n",
       "    .dataframe tbody tr th:only-of-type {\n",
       "        vertical-align: middle;\n",
       "    }\n",
       "\n",
       "    .dataframe tbody tr th {\n",
       "        vertical-align: top;\n",
       "    }\n",
       "\n",
       "    .dataframe thead th {\n",
       "        text-align: right;\n",
       "    }\n",
       "</style>\n",
       "<table border=\"1\" class=\"dataframe\">\n",
       "  <thead>\n",
       "    <tr style=\"text-align: right;\">\n",
       "      <th></th>\n",
       "      <th>0</th>\n",
       "      <th>1</th>\n",
       "    </tr>\n",
       "  </thead>\n",
       "  <tbody>\n",
       "    <tr>\n",
       "      <th>0</th>\n",
       "      <td>142.061148</td>\n",
       "      <td>246.773462</td>\n",
       "    </tr>\n",
       "    <tr>\n",
       "      <th>1</th>\n",
       "      <td>142.220533</td>\n",
       "      <td>226.524842</td>\n",
       "    </tr>\n",
       "    <tr>\n",
       "      <th>2</th>\n",
       "      <td>148.914687</td>\n",
       "      <td>270.857522</td>\n",
       "    </tr>\n",
       "    <tr>\n",
       "      <th>3</th>\n",
       "      <td>147.241149</td>\n",
       "      <td>296.698559</td>\n",
       "    </tr>\n",
       "    <tr>\n",
       "      <th>4</th>\n",
       "      <td>147.241149</td>\n",
       "      <td>313.232364</td>\n",
       "    </tr>\n",
       "    <tr>\n",
       "      <th>...</th>\n",
       "      <td>...</td>\n",
       "      <td>...</td>\n",
       "    </tr>\n",
       "    <tr>\n",
       "      <th>559</th>\n",
       "      <td>645.397802</td>\n",
       "      <td>2107.159785</td>\n",
       "    </tr>\n",
       "    <tr>\n",
       "      <th>560</th>\n",
       "      <td>648.187033</td>\n",
       "      <td>1511.052030</td>\n",
       "    </tr>\n",
       "    <tr>\n",
       "      <th>561</th>\n",
       "      <td>648.001084</td>\n",
       "      <td>1551.688288</td>\n",
       "    </tr>\n",
       "    <tr>\n",
       "      <th>562</th>\n",
       "      <td>648.001084</td>\n",
       "      <td>1607.283521</td>\n",
       "    </tr>\n",
       "    <tr>\n",
       "      <th>563</th>\n",
       "      <td>647.071341</td>\n",
       "      <td>1645.538809</td>\n",
       "    </tr>\n",
       "  </tbody>\n",
       "</table>\n",
       "<p>564 rows × 2 columns</p>\n",
       "</div>"
      ],
      "text/plain": [
       "              0            1\n",
       "0    142.061148   246.773462\n",
       "1    142.220533   226.524842\n",
       "2    148.914687   270.857522\n",
       "3    147.241149   296.698559\n",
       "4    147.241149   313.232364\n",
       "..          ...          ...\n",
       "559  645.397802  2107.159785\n",
       "560  648.187033  1511.052030\n",
       "561  648.001084  1551.688288\n",
       "562  648.001084  1607.283521\n",
       "563  647.071341  1645.538809\n",
       "\n",
       "[564 rows x 2 columns]"
      ]
     },
     "execution_count": 29,
     "metadata": {},
     "output_type": "execute_result"
    }
   ],
   "source": [
    "l = 0.0203544\n",
    "\n",
    "absoportion_1 = [-np.log(transmitance.iloc[x,1])/(l*0.035) for x in range(len(transmitance))]\n",
    "\n",
    "transmitance.iloc[:,1] = absoportion_1\n",
    "\n",
    "transmitance_new = transmitance*cmtoev\n",
    "\n",
    "juntando = pd.concat([transmitance_new.iloc[:258,:258],novo_modificado])\n",
    "\n",
    "juntando.to_csv('dados_juntos.csv', sep=';', index=False, header=False)\n",
    "\n",
    "\n"
   ]
  },
  {
   "cell_type": "code",
   "execution_count": 30,
   "metadata": {},
   "outputs": [],
   "source": [
    "dados = pd.read_csv('dados_juntos.csv', sep=';', header=None)\n",
    "dados\n",
    "\n",
    "\n",
    "lista1 = [dados.iloc[x,0] for x in range(len(dados))]\n",
    "sorting = sorted(lista1)\n",
    "\n",
    "for i in range(len(sorting)):\n",
    "    dados.iloc[i,0] = sorting[i]"
   ]
  },
  {
   "cell_type": "code",
   "execution_count": 31,
   "metadata": {},
   "outputs": [
    {
     "data": {
      "image/png": "[encoded data removed]",
      "text/plain": [
       "<Figure size 640x480 with 1 Axes>"
      ]
     },
     "metadata": {},
     "output_type": "display_data"
    }
   ],
   "source": [
    "plt.plot(dados[0],dados[1])\n",
    "plt.xscale('log')\n",
    "plt.yscale('log')\n",
    "#plt.xlim(600,5e4)\n"
   ]
  },
  {
   "cell_type": "code",
   "execution_count": 87,
   "metadata": {},
   "outputs": [],
   "source": [
    "#Vou colocar alguns dados numéricos aqui:\n",
    "n = 1*(cmtoev*1e7)**3#atomos/cm3\n",
    "rho = 3* gtoev * (cmtoev)**3#g/cm3\n",
    "rho_dm = 0.3e9 *(cmtoev)**3 #ev/cm3\n",
    "year = 3.156e7*stoev\n",
    "v = 1e-3\n",
    "kg = gtoev*1e3\n",
    "day = 86400*stoev"
   ]
  },
  {
   "cell_type": "code",
   "execution_count": 100,
   "metadata": {},
   "outputs": [],
   "source": [
    "def kappa(m, alpha):\n",
    "    sensitivity = 1/(kg*year)\n",
    "    ratio = (rho*m)/(rho_dm*alpha)\n",
    "    return (np.sqrt((sensitivity*ratio)))\n",
    "\n",
    "def kappa2(m, alpha):\n",
    "    sensitivity = 1/(kg*day)\n",
    "    ratio = (rho*m)/(rho_dm*alpha)\n",
    "    return (np.sqrt((sensitivity*ratio)))"
   ]
  },
  {
   "cell_type": "code",
   "execution_count": 101,
   "metadata": {},
   "outputs": [
    {
     "data": {
      "text/plain": [
       "1.452340095503696e-17"
      ]
     },
     "execution_count": 101,
     "metadata": {},
     "output_type": "execute_result"
    }
   ],
   "source": [
    "kappa(data1_new.iloc[27,0],data1_new.iloc[27,1])"
   ]
  },
  {
   "cell_type": "code",
   "execution_count": 35,
   "metadata": {},
   "outputs": [
    {
     "data": {
      "text/plain": [
       "457"
      ]
     },
     "execution_count": 35,
     "metadata": {},
     "output_type": "execute_result"
    }
   ],
   "source": [
    "interpolation = interp1d(dados.iloc[:,0],dados.iloc[:,1], kind='linear', fill_value=\"extrapolate\")\n",
    "\n",
    "graphkgyear = [kappa(dados.iloc[x,0],dados.iloc[x,1]) for x in range(len(dados))]\n",
    "graphkgday = [kappa2(dados.iloc[x,0],dados.iloc[x,1]) for x in range(len(dados))]\n",
    "\n",
    "len(graphkgday)"
   ]
  },
  {
   "cell_type": "code",
   "execution_count": 36,
   "metadata": {},
   "outputs": [
    {
     "data": {
      "image/png": "[encoded data removed]",
      "text/plain": [
       "<Figure size 640x480 with 1 Axes>"
      ]
     },
     "metadata": {},
     "output_type": "display_data"
    }
   ],
   "source": [
    "plt.plot(dados[0],graphkgday, linestyle='dashdot', label='kg-day')\n",
    "plt.plot(dados[0],graphkgyear, linestyle='--', label='kg-year')\n",
    "\n",
    "plt.xscale('log')\n",
    "plt.yscale('log')\n",
    "plt.ylim(1e-29,1e-19)\n",
    "#plt.xlim(1e-3,10)\n",
    "plt.legend()\n",
    "plt.savefig('plottt.pdf', format='pdf')"
   ]
  },
  {
   "cell_type": "code",
   "execution_count": 37,
   "metadata": {},
   "outputs": [],
   "source": [
    "#I want to try and interpolate separetly.\n",
    "\n",
    "fit1 = np.polyfit(data1_new.iloc[:,0], data1_new.iloc[:,1], 1)\n",
    "\n",
    "fit2 = np.polyfit(data2_new.iloc[:,0], data2_new.iloc[:,1], 3)\n",
    "\n",
    "fit3 = np.polyfit(transmitance_new.iloc[:,0], transmitance_new.iloc[:,1],2)\n",
    "\n",
    "funcao1 = np.poly1d(fit1)\n",
    "\n",
    "funcao2 = np.poly1d(fit2)\n",
    "\n",
    "funcao3 = np.poly1d(fit3)\n",
    "\n",
    "lista_plot1 = [funcao1(data1_new.iloc[x,0]) for x in range(len(data1_new))]\n",
    "\n",
    "lista_plot2 = [funcao2(data2_new.iloc[x,0]) for x in range(len(data2_new))]\n",
    "\n",
    "lista_plot3 = [funcao2(transmitance_new.iloc[x,0]) for x in range(len(transmitance_new))]\n",
    "\n",
    "lista_plot4 = lista_plot3 + lista_plot1 + lista_plot2 \n",
    "\n",
    "xaxis = [transmitance_new.iloc[x,0] for x in range(len(transmitance_new))] + [data1_new.iloc[x,0] for x in range(len(data1_new))] + [data2_new.iloc[x,0] for x in range(len(data2_new))]\n",
    "\n",
    "#plt.plot(data1_new.iloc[:,0], lista_plot1)\n",
    "#plt.plot(data2_new.iloc[:,0], lista_plot2)\n",
    "#plt.plot(transmitance_new.iloc[:,0], lista_plot3)\n",
    "#plt.plot(xaxis, lista_plot4)\n",
    "\n",
    "#plt.xscale('log')\n",
    "#plt.yscale('log')\n",
    "\n"
   ]
  },
  {
   "cell_type": "code",
   "execution_count": 102,
   "metadata": {},
   "outputs": [
    {
     "data": {
      "text/plain": [
       "<matplotlib.legend.Legend at 0x7f74144f17d0>"
      ]
     },
     "execution_count": 102,
     "metadata": {},
     "output_type": "execute_result"
    },
    {
     "data": {
      "image/png": "[encoded data removed]",
      "text/plain": [
       "<Figure size 640x480 with 1 Axes>"
      ]
     },
     "metadata": {},
     "output_type": "display_data"
    }
   ],
   "source": [
    "graphkgyear1 = [kappa(data1_new.iloc[x,0],funcao1(data1_new.iloc[x,0])) for x in range(len(data1_new))] \n",
    "graphkgyear2 = [kappa(data2_new.iloc[x,0],funcao2(data2_new.iloc[x,0])) for x in range(len(data2_new))]\n",
    "graphkgyear3 = [kappa(transmitance_new.iloc[x,0],funcao3(transmitance_new.iloc[x,0])) for x in range(len(transmitance_new))]\n",
    "graph = [kappa(xaxis[x], lista_plot4[x]) for x in range(len(xaxis))]\n",
    "graph2 = graphkgyear3 + graphkgyear1 + graphkgyear2\n",
    "\n",
    "graphkgday1 = [kappa2(data1_new.iloc[x,0],funcao1(data1_new.iloc[x,0])) for x in range(len(data1_new))] \n",
    "graphkgday2 = [kappa2(data2_new.iloc[x,0],funcao2(data2_new.iloc[x,0])) for x in range(len(data2_new))]\n",
    "graphkgday3 = [kappa2(transmitance_new.iloc[x,0],funcao3(transmitance_new.iloc[x,0])) for x in range(len(transmitance_new))]\n",
    "graph3 = graphkgday3 + graphkgday1 + graphkgday2\n",
    "\n",
    "#plt.plot(data1_new.iloc[:,0], graphkgyear1)\n",
    "#plt.plot(data2_new.iloc[:,0], graphkgyear2)\n",
    "#plt.plot(transmitance_new.iloc[:,0], graphkgyear3)\n",
    "plt.plot(xaxis, graph3, label='kg-day')\n",
    "plt.plot(xaxis, graph2, label = 'kg-year')\n",
    "plt.xscale('log')\n",
    "plt.yscale('log')\n",
    "plt.ylabel('$\\kappa$')\n",
    "plt.xlabel('$m_V(eV)$')\n",
    "plt.ylim(1e-19, 1e-9)\n",
    "plt.legend()"
   ]
  }
 ],
 "metadata": {
  "kernelspec": {
   "display_name": "base",
   "language": "python",
   "name": "python3"
  },
  "language_info": {
   "codemirror_mode": {
    "name": "ipython",
    "version": 3
   },
   "file_extension": ".py",
   "mimetype": "text/x-python",
   "name": "python",
   "nbconvert_exporter": "python",
   "pygments_lexer": "ipython3",
   "version": "3.11.7"
  }
 },
 "nbformat": 4,
 "nbformat_minor": 2
}
